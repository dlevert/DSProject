{
    "cells": [
        {
            "cell_type": "markdown",
            "metadata": {
                "collapsed": true
            },
            "source": "# Lab 6 - Build a Dashboard Application with Plotly Dash"
        },
        {
            "cell_type": "code",
            "execution_count": 1,
            "metadata": {},
            "outputs": [],
            "source": "%%capture\n!pip3 install pandas dash"
        },
        {
            "cell_type": "code",
            "execution_count": null,
            "metadata": {},
            "outputs": [
                {
                    "name": "stdout",
                    "output_type": "stream",
                    "text": "Dash is running on http://127.0.0.1:8050/\n\nDash is running on http://127.0.0.1:8050/\n\n * Serving Flask app '__main__' (lazy loading)\n * Environment: production\n\u001b[31m   WARNING: This is a development server. Do not use it in a production deployment.\u001b[0m\n\u001b[2m   Use a production WSGI server instead.\u001b[0m\n * Debug mode: off\n"
                },
                {
                    "name": "stderr",
                    "output_type": "stream",
                    "text": " * Running on http://127.0.0.1:8050/ (Press CTRL+C to quit)\n"
                }
            ],
            "source": "# Import required libraries\nimport pandas as pd\nimport dash\nfrom dash import html as html\nfrom dash import dcc as dcc\nfrom dash.dependencies import Input, Output, State\nimport plotly.graph_objects as go\nimport plotly.express as px\nfrom dash import no_update\n\n# Read the data into pandas dataframe\nimport requests\nurl = \"https://cf-courses-data.s3.us.cloud-object-storage.appdomain.cloud/IBM-DS0321EN-SkillsNetwork/datasets/spacex_launch_dash.csv\"\nresp = requests.get(url)\noutput = open('spacex_launch_dash.csv', 'wb')\noutput.write(resp.content)\noutput.close()\n\nspacex_df = pd.read_csv(\"spacex_launch_dash.csv\")\n\n# Create a dash application\napp = dash.Dash(__name__)\n\napp.config.suppress_callback_exceptions = True\n\n# Create an app layout\napp.layout = html.Div(children=[html.H1('SpaceX Launch Records Dashboard',\n                                        style={'textAlign': 'center', 'color': '#503D36',\n                                               'font-size': 40}),\n                                # TASK 1: Add a dropdown list to enable Launch Site selection\n                                # The default select value is for ALL sites\n                                # dcc.Dropdown(id='site-dropdown',...)\n                                html.Br(),\n                                #==============\n                                   html.Div([\n                                       # Create an division for adding dropdown helper text for choosing year\n                                        html.Div([\n                                            html.H2('Launch Site:', style={'margin-right': '2em'})]),\n                                        #----\n                                       html.Div([dcc.Dropdown(id='site-dropdown', \n                                                     # Update dropdown values using list comphrehension\n                                                     options= [{'label': 'All Sites', 'value': 'ALL'},\n                                                      {'label': 'CCAFS LC-40', 'value': 'CCAFS LC-40'},\n                                                      {'label': 'VAFB SLC-4E', 'value': 'VAFB SLC-4E'},\n                                                      {'label': 'KSC LC-39A', 'value': 'KSC LC-39A'},\n                                                      {'label': 'CCAFS SLC-40', 'value': 'CCAFS SLC-40'}],\n                                                     placeholder=\"Select a Launch Site\",\n                                                     value='ALL',\n                                                     style={'width':'80%', 'padding':'3px', 'font-size': '20px', 'text-align-last' : 'center'}),\n                                            # Place them next to each other using the division style\n                                            ], style={'display': 'flex'})]),  \n                                \n                                #==============\n\n                                # TASK 2: Add a pie chart to show the total successful launches count for all sites\n                                # If a specific launch site was selected, show the Success vs. Failed counts for the site\n                                html.Div(\n                                    dcc.Graph(id='success-pie-chart')\n                                ),\n                                #html.Div([ ], id='success-pie-chart', style={'display': 'flex'}),\n\n                                html.P(\"Payload range (Kg):\"),\n                                # TASK 3: Add a slider to select payload range\n                                html.Div([\n                                    dcc.RangeSlider(id='payload-slider',\n                                                    min = 0,\n                                                    max = 10000,\n                                                    step = 1000,\n                                                    marks={0: '0',\n                                                          2500:'2500',\n                                                          5000:'5000',\n                                                          7500:'7500',\n                                                          10000:'10000'},\n                                                    value = [spacex_df['Payload Mass (kg)'].min(), \n                                                             spacex_df['Payload Mass (kg)'].max()]\n                                                   )]),\n                                \n                                # TASK 4: Add a scatter chart to show the correlation between payload and launch success\n                                html.Div(\n                                    dcc.Graph(id='success-payload-scatter-chart'\n                                              \n                                             ))\n                                ])\n\n# TASK 2:\n# Add a callback function for `site-dropdown` as input, `success-pie-chart` as output\n#==============\n@app.callback(\n    Output(component_id='success-pie-chart', component_property='figure'),\n    Input(component_id='site-dropdown', component_property='value')\n            )\n# -Pie Chart\ndef piechart(site_value):\n    if  site_value == 'ALL':\n        pie = spacex_df\n        pie_fig = px.pie(pie, values = 'class', names='Launch Site', \n                         title='Succesful Launches - All Sites')\n        #pie_fig.update_traces(textinfo='value')\n    else:\n        pie2 = spacex_df[spacex_df['Launch Site'] == site_value]\n        d = {'class':[len(pie2[pie2['class']== 1]),len(pie2[pie2['class']== 0])]}\n        pie2 = pd.DataFrame(data=d)\n        pie_fig = px.pie(pie2, values = 'class', names=pie2.index,\n                         title='Succesful Launches for ' + site_value)\n        #pie_fig.update_traces(textinfo='value')\n    return pie_fig\n#==============\n# TASK 4:\n# Add a callback function for `site-dropdown` and `payload-slider` as inputs, `success-payload-scatter-chart` as output\n#==============\n@app.callback(\n    Output(component_id='success-payload-scatter-chart', component_property='figure'),\n    Input(component_id='site-dropdown', component_property='value'),\n    Input(component_id='payload-slider', component_property='value')\n            )\n# -Scatter Chart\ndef scatterchart(site_value, payload_value):\n    if  site_value == 'ALL':\n        s_df = spacex_df[(spacex_df['Payload Mass (kg)'] > payload_value[0]) & (spacex_df['Payload Mass (kg)'] < payload_value[1])]\n        s_fig = px.scatter(s_df, x='Payload Mass (kg)', y = 'class', color = 'Booster Version Category')\n    else:\n        s_df = spacex_df[(spacex_df['Payload Mass (kg)'] > payload_value[0]) & (spacex_df['Payload Mass (kg)'] < payload_value[1])]\n        s_df = s_df[s_df['Launch Site'] == site_value]\n        s_fig = px.scatter(s_df, x='Payload Mass (kg)', y = 'class', color = 'Booster Version Category')\n    return s_fig\n#==============\n\n# Run the app\nif __name__ == '__main__':\n    app.run_server()"
        },
        {
            "cell_type": "code",
            "execution_count": null,
            "metadata": {},
            "outputs": [],
            "source": ""
        }
    ],
    "metadata": {
        "kernelspec": {
            "display_name": "Python 3.8",
            "language": "python",
            "name": "python3"
        },
        "language_info": {
            "codemirror_mode": {
                "name": "ipython",
                "version": 3
            },
            "file_extension": ".py",
            "mimetype": "text/x-python",
            "name": "python",
            "nbconvert_exporter": "python",
            "pygments_lexer": "ipython3",
            "version": "3.8.11"
        }
    },
    "nbformat": 4,
    "nbformat_minor": 1
}
